{
 "cells": [
  {
   "cell_type": "code",
   "execution_count": 1,
   "id": "b8741e0e",
   "metadata": {},
   "outputs": [],
   "source": [
    "import os\n",
    "import random\n",
    "import shutil"
   ]
  },
  {
   "cell_type": "code",
   "execution_count": 2,
   "id": "1594913b",
   "metadata": {},
   "outputs": [],
   "source": [
    "data_folder = \"Dataset/\""
   ]
  },
  {
   "cell_type": "code",
   "execution_count": 3,
   "id": "341b93ba",
   "metadata": {},
   "outputs": [],
   "source": [
    "test_ratio = 0.2"
   ]
  },
  {
   "cell_type": "code",
   "execution_count": 4,
   "id": "9f33a026",
   "metadata": {},
   "outputs": [],
   "source": [
    "train_folder = os.path.join(data_folder, 'train')\n",
    "test_folder = os.path.join(data_folder, 'test')\n",
    "os.makedirs(train_folder, exist_ok=True)\n",
    "os.makedirs(test_folder, exist_ok=True)"
   ]
  },
  {
   "cell_type": "code",
   "execution_count": 5,
   "id": "ab160898",
   "metadata": {},
   "outputs": [],
   "source": [
    "for filename in os.listdir(data_folder):\n",
    "    # Determine whether to move the file to the training or testing folder\n",
    "    if random.uniform(0, 1) < test_ratio:\n",
    "        destination_folder = test_folder\n",
    "    else:\n",
    "        destination_folder = train_folder\n",
    "\n",
    "    # Move the file to its destination folder\n",
    "    src = os.path.join(data_folder, filename)\n",
    "    dst = os.path.join(destination_folder, filename)\n",
    "    shutil.move(src, dst)"
   ]
  }
 ],
 "metadata": {
  "kernelspec": {
   "display_name": "Python 3 (ipykernel)",
   "language": "python",
   "name": "python3"
  },
  "language_info": {
   "codemirror_mode": {
    "name": "ipython",
    "version": 3
   },
   "file_extension": ".py",
   "mimetype": "text/x-python",
   "name": "python",
   "nbconvert_exporter": "python",
   "pygments_lexer": "ipython3",
   "version": "3.10.8"
  }
 },
 "nbformat": 4,
 "nbformat_minor": 5
}
