{
 "cells": [
  {
   "cell_type": "code",
   "execution_count": 1,
   "id": "b8741e0e",
   "metadata": {},
   "outputs": [],
   "source": [
    "import os\n",
    "import random\n",
    "import shutil"
   ]
  },
  {
   "cell_type": "code",
   "execution_count": 2,
   "id": "1594913b",
   "metadata": {},
   "outputs": [],
   "source": [
    "src_folder = 'Dataset'\n",
    "dest_folder = 'Dataset_split'"
   ]
  },
  {
   "cell_type": "code",
   "execution_count": 3,
   "id": "341b93ba",
   "metadata": {},
   "outputs": [],
   "source": [
    "train_folder = os.path.join(dest_folder, 'train')\n",
    "test_folder = os.path.join(dest_folder, 'test')"
   ]
  },
  {
   "cell_type": "code",
   "execution_count": 4,
   "id": "c162b5d0",
   "metadata": {},
   "outputs": [],
   "source": [
    "#create destination folders if not present\n",
    "if not os.path.exists(dest_folder):\n",
    "    os.makedirs(dest_folder)\n",
    "\n",
    "train_folder = os.path.join(dest_folder, 'train')\n",
    "if not os.path.exists(train_folder):\n",
    "    os.makedirs(train_folder)\n",
    "\n",
    "test_folder = os.path.join(dest_folder, 'test')\n",
    "if not os.path.exists(test_folder):\n",
    "    os.makedirs(test_folder)"
   ]
  },
  {
   "cell_type": "code",
   "execution_count": 5,
   "id": "9f33a026",
   "metadata": {},
   "outputs": [],
   "source": [
    "#function to divide folders into test and train\n",
    "def divide_dataset(src_folder, train_folder, test_folder):\n",
    "    \n",
    "    #get the list of sub folders in the source folder\n",
    "    sub_folders = os.listdir(src_folder)\n",
    "    \n",
    "    #loop through each sub folder\n",
    "    for sub_folder in sub_folders:\n",
    "        #get the list of files in the sub folder\n",
    "        files = os.listdir(os.path.join(src_folder, sub_folder))\n",
    "        \n",
    "        #create train and test sub folders for each class\n",
    "        train_sub_folder = os.path.join(train_folder, sub_folder)\n",
    "        if not os.path.exists(train_sub_folder):\n",
    "            os.makedirs(train_sub_folder)\n",
    "        test_sub_folder = os.path.join(test_folder, sub_folder)\n",
    "        if not os.path.exists(test_sub_folder):\n",
    "            os.makedirs(test_sub_folder)\n",
    "        \n",
    "        #randomly select 80% of the files\n",
    "        select_files = random.sample(files, int(len(files)*0.8))\n",
    "        \n",
    "        #move the selected files to the train folder\n",
    "        for file in select_files:\n",
    "            shutil.move(os.path.join(src_folder, sub_folder, file), train_sub_folder)\n",
    "        \n",
    "        #move the remaining files to the test folder\n",
    "        for file in files:\n",
    "            if file not in select_files:\n",
    "                shutil.move(os.path.join(src_folder, sub_folder, file), test_sub_folder)"
   ]
  },
  {
   "cell_type": "code",
   "execution_count": 6,
   "id": "ab160898",
   "metadata": {},
   "outputs": [],
   "source": [
    "#divide the dataset\n",
    "divide_dataset(src_folder, train_folder, test_folder)"
   ]
  }
 ],
 "metadata": {
  "kernelspec": {
   "display_name": "Python 3 (ipykernel)",
   "language": "python",
   "name": "python3"
  },
  "language_info": {
   "codemirror_mode": {
    "name": "ipython",
    "version": 3
   },
   "file_extension": ".py",
   "mimetype": "text/x-python",
   "name": "python",
   "nbconvert_exporter": "python",
   "pygments_lexer": "ipython3",
   "version": "3.10.8"
  }
 },
 "nbformat": 4,
 "nbformat_minor": 5
}
